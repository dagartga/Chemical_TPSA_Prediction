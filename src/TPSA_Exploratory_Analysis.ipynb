{
 "cells": [
  {
   "cell_type": "markdown",
   "id": "4eb5ba14",
   "metadata": {},
   "source": [
    "# Predicting TPSA of Chemical Compounds\n",
    "\n",
    "Topological Polar Surface Area is important for understanding how a compound will behave in the body. Usually a TPSA of less than 140 is required for the compound to cross the cell membrane. Usually a TPSA of less than 90 is required for the compound to cross the blood brain barrier."
   ]
  },
  {
   "cell_type": "code",
   "execution_count": 57,
   "id": "0f902cf6",
   "metadata": {},
   "outputs": [],
   "source": [
    "import pandas as pd\n",
    "import matplotlib.pyplot as plt\n",
    "import preprocessing\n",
    "from sklearn.preprocessing import StandardScaler\n",
    "from sklearn.linear_model import LinearRegression\n",
    "from sklearn import metrics\n",
    "import numpy as np"
   ]
  },
  {
   "cell_type": "code",
   "execution_count": 61,
   "id": "04d9999f",
   "metadata": {},
   "outputs": [],
   "source": [
    "pd_df = pd.read_csv('../input/train_folds.csv')\n",
    "label = 'TPSA'\n",
    "pd_df = pd_df.drop(columns='label')"
   ]
  },
  {
   "cell_type": "code",
   "execution_count": 62,
   "id": "0cb28b2c",
   "metadata": {},
   "outputs": [],
   "source": [
    "to_scale = pd_df.drop(columns=['kfold','toxic', 'FormalCharge'])\n",
    "scaler = StandardScaler()\n",
    "scaled_values  = scaler.fit_transform(to_scale)\n",
    "scaled_df = pd.DataFrame(scaled_values, columns = to_scale.columns)\n",
    "final_df = pd_df[['kfold', 'toxic', 'FormalCharge']].join(scaled_df)"
   ]
  },
  {
   "cell_type": "code",
   "execution_count": 63,
   "id": "4a6811b8",
   "metadata": {},
   "outputs": [],
   "source": [
    "def scale_data(df):\n",
    "\n",
    "    to_scale = df.drop(columns=['kfold','toxic', 'FormalCharge'])\n",
    "    scaler = StandardScaler()\n",
    "    scaled_values  = scaler.fit_transform(to_scale)\n",
    "    scaled_df = pd.DataFrame(scaled_values, columns = to_scale.columns)\n",
    "    final_df = df[['kfold', 'toxic', 'FormalCharge']].join(scaled_df)\n",
    "\n",
    "    return final_df"
   ]
  },
  {
   "cell_type": "code",
   "execution_count": 64,
   "id": "36b83dcb",
   "metadata": {},
   "outputs": [],
   "source": [
    "scaled_df = scale_data(pd_df)"
   ]
  },
  {
   "cell_type": "code",
   "execution_count": 65,
   "id": "a373dc68",
   "metadata": {},
   "outputs": [],
   "source": [
    "df_train = scaled_df[scaled_df['kfold']!= 0]\n",
    "df_valid = scaled_df[scaled_df['kfold']==0]"
   ]
  },
  {
   "cell_type": "code",
   "execution_count": 66,
   "id": "0086a84e",
   "metadata": {},
   "outputs": [],
   "source": [
    "X_train = df_train.drop(label, axis=1).values\n",
    "y_train = df_train[label].values\n",
    "\n",
    "X_valid = df_valid.drop(label, axis=1).values\n",
    "y_valid = df_valid[label].values\n",
    "\n",
    "#reg_model = model_dispatcher.models[model]\n",
    "reg_model = LinearRegression()\n",
    "reg_model.fit(X_train, y_train)\n",
    "\n",
    "y_preds = reg_model.predict(X_valid)\n",
    "\n",
    "mse = metrics.mean_squared_error(y_valid, y_preds)\n",
    "rmse = np.sqrt(mse)\n",
    "r2 = metrics.r2_score(y_valid, y_preds)"
   ]
  },
  {
   "cell_type": "code",
   "execution_count": 69,
   "id": "a0db5fa8",
   "metadata": {},
   "outputs": [
    {
     "name": "stdout",
     "output_type": "stream",
     "text": [
      "0.9820363318277275 0.015867033336795063 0.12596441297761468\n"
     ]
    }
   ],
   "source": [
    "print(r2, mse, rmse)"
   ]
  },
  {
   "cell_type": "code",
   "execution_count": 68,
   "id": "2026bb05",
   "metadata": {},
   "outputs": [
    {
     "data": {
      "image/png": "[encoded data removed]",
      "text/plain": [
       "<Figure size 432x288 with 1 Axes>"
      ]
     },
     "metadata": {
      "needs_background": "light"
     },
     "output_type": "display_data"
    }
   ],
   "source": [
    "plt.scatter(y_valid, y_preds)\n",
    "plt.show()"
   ]
  }
 ],
 "metadata": {
  "kernelspec": {
   "display_name": "Python 3 (ipykernel)",
   "language": "python",
   "name": "python3"
  },
  "language_info": {
   "codemirror_mode": {
    "name": "ipython",
    "version": 3
   },
   "file_extension": ".py",
   "mimetype": "text/x-python",
   "name": "python",
   "nbconvert_exporter": "python",
   "pygments_lexer": "ipython3",
   "version": "3.7.11"
  }
 },
 "nbformat": 4,
 "nbformat_minor": 5
}
