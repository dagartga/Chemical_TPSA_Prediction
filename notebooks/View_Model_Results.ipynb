{
 "cells": [
  {
   "cell_type": "code",
   "execution_count": 20,
   "id": "d2cb20f7",
   "metadata": {},
   "outputs": [],
   "source": [
    "import pandas as pd\n",
    "import matplotlib.pyplot as plt\n",
    "import seaborn as sns\n",
    "import joblib\n",
    "import sklearn"
   ]
  },
  {
   "cell_type": "code",
   "execution_count": 21,
   "id": "e720c8ea",
   "metadata": {},
   "outputs": [],
   "source": [
    "# import the data\n",
    "pd_df = pd.read_csv('../input/train_folds.csv')"
   ]
  },
  {
   "cell_type": "code",
   "execution_count": 22,
   "id": "a9c32058",
   "metadata": {},
   "outputs": [],
   "source": [
    "X_train = pd_df[pd_df['kfold'] != 0]\n",
    "X_test = pd_df[pd_df['kfold'] == 0]\n",
    "\n",
    "y_train = X_train['TPSA'].values\n",
    "y_test = X_test['TPSA'].values\n",
    "\n",
    "X_train = X_train.drop(columns=['TPSA'])\n",
    "X_test = X_test.drop(columns=['TPSA'])"
   ]
  },
  {
   "cell_type": "code",
   "execution_count": 24,
   "id": "4813ef1d",
   "metadata": {},
   "outputs": [
    {
     "data": {
      "text/html": [
       "<div>\n",
       "<style scoped>\n",
       "    .dataframe tbody tr th:only-of-type {\n",
       "        vertical-align: middle;\n",
       "    }\n",
       "\n",
       "    .dataframe tbody tr th {\n",
       "        vertical-align: top;\n",
       "    }\n",
       "\n",
       "    .dataframe thead th {\n",
       "        text-align: right;\n",
       "    }\n",
       "</style>\n",
       "<table border=\"1\" class=\"dataframe\">\n",
       "  <thead>\n",
       "    <tr style=\"text-align: right;\">\n",
       "      <th></th>\n",
       "      <th>toxic</th>\n",
       "      <th>FormalCharge</th>\n",
       "      <th>TPSA</th>\n",
       "      <th>MolWt</th>\n",
       "      <th>HeavyAtoms</th>\n",
       "      <th>NHOH</th>\n",
       "      <th>HAcceptors</th>\n",
       "      <th>HDonors</th>\n",
       "      <th>Heteroatoms</th>\n",
       "      <th>AromaticRings</th>\n",
       "      <th>SaturatedRings</th>\n",
       "      <th>AromaticOH</th>\n",
       "      <th>AromaticN</th>\n",
       "      <th>LogP</th>\n",
       "      <th>label</th>\n",
       "      <th>kfold</th>\n",
       "    </tr>\n",
       "  </thead>\n",
       "  <tbody>\n",
       "    <tr>\n",
       "      <th>0</th>\n",
       "      <td>0</td>\n",
       "      <td>-1</td>\n",
       "      <td>73.60</td>\n",
       "      <td>356.427</td>\n",
       "      <td>25</td>\n",
       "      <td>0</td>\n",
       "      <td>6</td>\n",
       "      <td>0</td>\n",
       "      <td>7</td>\n",
       "      <td>2</td>\n",
       "      <td>1</td>\n",
       "      <td>0</td>\n",
       "      <td>1</td>\n",
       "      <td>3.2750</td>\n",
       "      <td>73.60</td>\n",
       "      <td>0</td>\n",
       "    </tr>\n",
       "    <tr>\n",
       "      <th>1</th>\n",
       "      <td>0</td>\n",
       "      <td>0</td>\n",
       "      <td>178.00</td>\n",
       "      <td>444.488</td>\n",
       "      <td>32</td>\n",
       "      <td>8</td>\n",
       "      <td>8</td>\n",
       "      <td>6</td>\n",
       "      <td>10</td>\n",
       "      <td>2</td>\n",
       "      <td>0</td>\n",
       "      <td>2</td>\n",
       "      <td>0</td>\n",
       "      <td>-3.4556</td>\n",
       "      <td>178.00</td>\n",
       "      <td>0</td>\n",
       "    </tr>\n",
       "    <tr>\n",
       "      <th>2</th>\n",
       "      <td>0</td>\n",
       "      <td>0</td>\n",
       "      <td>85.03</td>\n",
       "      <td>501.667</td>\n",
       "      <td>37</td>\n",
       "      <td>3</td>\n",
       "      <td>4</td>\n",
       "      <td>3</td>\n",
       "      <td>5</td>\n",
       "      <td>3</td>\n",
       "      <td>1</td>\n",
       "      <td>2</td>\n",
       "      <td>0</td>\n",
       "      <td>2.7587</td>\n",
       "      <td>85.03</td>\n",
       "      <td>0</td>\n",
       "    </tr>\n",
       "    <tr>\n",
       "      <th>3</th>\n",
       "      <td>0</td>\n",
       "      <td>0</td>\n",
       "      <td>88.00</td>\n",
       "      <td>195.218</td>\n",
       "      <td>14</td>\n",
       "      <td>4</td>\n",
       "      <td>3</td>\n",
       "      <td>2</td>\n",
       "      <td>4</td>\n",
       "      <td>1</td>\n",
       "      <td>0</td>\n",
       "      <td>0</td>\n",
       "      <td>0</td>\n",
       "      <td>-1.3148</td>\n",
       "      <td>88.00</td>\n",
       "      <td>0</td>\n",
       "    </tr>\n",
       "    <tr>\n",
       "      <th>4</th>\n",
       "      <td>0</td>\n",
       "      <td>0</td>\n",
       "      <td>40.46</td>\n",
       "      <td>400.647</td>\n",
       "      <td>29</td>\n",
       "      <td>2</td>\n",
       "      <td>2</td>\n",
       "      <td>2</td>\n",
       "      <td>2</td>\n",
       "      <td>0</td>\n",
       "      <td>3</td>\n",
       "      <td>2</td>\n",
       "      <td>0</td>\n",
       "      <td>6.7339</td>\n",
       "      <td>40.46</td>\n",
       "      <td>0</td>\n",
       "    </tr>\n",
       "  </tbody>\n",
       "</table>\n",
       "</div>"
      ],
      "text/plain": [
       "   toxic  FormalCharge    TPSA    MolWt  HeavyAtoms  NHOH  HAcceptors  \\\n",
       "0      0            -1   73.60  356.427          25     0           6   \n",
       "1      0             0  178.00  444.488          32     8           8   \n",
       "2      0             0   85.03  501.667          37     3           4   \n",
       "3      0             0   88.00  195.218          14     4           3   \n",
       "4      0             0   40.46  400.647          29     2           2   \n",
       "\n",
       "   HDonors  Heteroatoms  AromaticRings  SaturatedRings  AromaticOH  AromaticN  \\\n",
       "0        0            7              2               1           0          1   \n",
       "1        6           10              2               0           2          0   \n",
       "2        3            5              3               1           2          0   \n",
       "3        2            4              1               0           0          0   \n",
       "4        2            2              0               3           2          0   \n",
       "\n",
       "     LogP   label  kfold  \n",
       "0  3.2750   73.60      0  \n",
       "1 -3.4556  178.00      0  \n",
       "2  2.7587   85.03      0  \n",
       "3 -1.3148   88.00      0  \n",
       "4  6.7339   40.46      0  "
      ]
     },
     "execution_count": 24,
     "metadata": {},
     "output_type": "execute_result"
    }
   ],
   "source": [
    "pd_df.head()"
   ]
  },
  {
   "cell_type": "code",
   "execution_count": 23,
   "id": "73e9df6b",
   "metadata": {},
   "outputs": [
    {
     "name": "stdout",
     "output_type": "stream",
     "text": [
      "Loaded model score: -14.278355804693287\n"
     ]
    },
    {
     "name": "stderr",
     "output_type": "stream",
     "text": [
      "C:\\Users\\Dagart\\anaconda3\\envs\\bio_ml_37\\lib\\site-packages\\sklearn\\base.py:444: UserWarning: X has feature names, but LinearRegression was fitted without feature names\n",
      "  f\"X has feature names, but {self.__class__.__name__} was fitted without\"\n"
     ]
    }
   ],
   "source": [
    "loaded_model = joblib.load('../models/lr_0.bin')\n",
    "print('Loaded model score:', loaded_model.score(X_test, y_test))"
   ]
  },
  {
   "cell_type": "code",
   "execution_count": null,
   "id": "48ff079c",
   "metadata": {},
   "outputs": [],
   "source": []
  }
 ],
 "metadata": {
  "kernelspec": {
   "display_name": "Python 3 (ipykernel)",
   "language": "python",
   "name": "python3"
  },
  "language_info": {
   "codemirror_mode": {
    "name": "ipython",
    "version": 3
   },
   "file_extension": ".py",
   "mimetype": "text/x-python",
   "name": "python",
   "nbconvert_exporter": "python",
   "pygments_lexer": "ipython3",
   "version": "3.7.11"
  }
 },
 "nbformat": 4,
 "nbformat_minor": 5
}
